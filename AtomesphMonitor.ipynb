{
 "cells": [
  {
   "cell_type": "markdown",
   "metadata": {},
   "source": [
    " <span style=\"color: white;\"><p align=\"center\"><font size='6'> **Atmospheric Monitoring** </font></p></span>\n",
    " <span style=\"color: green;\"><p align=\"center\"><font size='5'> **Saudi Arabia** </font></p></span>\n",
    " <span style=\"color: white;\"><p align=\"center\"><font size='2'> September 2021</font></p></span>\n",
    " "
   ]
  },
  {
   "cell_type": "code",
   "execution_count": 18,
   "metadata": {},
   "outputs": [],
   "source": [
    "\n",
    "import ee\n",
    "import geemap\n",
    "ee.Initialize()"
   ]
  },
  {
   "cell_type": "code",
   "execution_count": 19,
   "metadata": {},
   "outputs": [],
   "source": [
    "Mapsul=geemap.Map()\n",
    "Mapsnitro=geemap.Map()\n",
    "Mapsair=geemap.Map()\n",
    "Mapscarbo=geemap.Map()\n",
    "Mapsmeth=geemap.Map()"
   ]
  },
  {
   "cell_type": "code",
   "execution_count": 20,
   "metadata": {},
   "outputs": [],
   "source": [
    "\n",
    "Mapsul.setCenter(46,24,5)\n",
    "Mapsnitro.setCenter(46,24,5)\n",
    "Mapsair.setCenter(46,24,5)\n",
    "Mapscarbo.setCenter(46,24,5)\n",
    "Mapsmeth.setCenter(46,24,5)"
   ]
  },
  {
   "cell_type": "markdown",
   "metadata": {},
   "source": [
    "<span style=\"color: white;\"><p align=\"center\"><font size='5'> **Sulphur Dioxide:SO₂** </font></p></span>\n",
    "<span style=\"color: white;\"><p align=\"center\"><font size='1'> **from lowest to highest** </font></p></span>\n",
    "<span style=\"color: white;\"><p align=\"center\"><font size='2'> concentrations: black,blue,purple,cyan,green,yellow,red </font></p></span>"
   ]
  },
  {
   "cell_type": "code",
   "execution_count": 21,
   "metadata": {},
   "outputs": [
    {
     "data": {
      "application/vnd.jupyter.widget-view+json": {
       "model_id": "603ddaf5af9544f5bbb82675f97cd988",
       "version_major": 2,
       "version_minor": 0
      },
      "text/plain": [
       "Map(center=[24, 46], controls=(WidgetControl(options=['position', 'transparent_bg'], widget=HBox(children=(Tog…"
      ]
     },
     "metadata": {},
     "output_type": "display_data"
    }
   ],
   "source": [
    "#Sulphur dioxide-low\n",
    "#red high-black low\n",
    "#data from google earth engine \n",
    "data=ee.ImageCollection(\"COPERNICUS/S5P/NRTI/L3_SO2\").select(\"SO2_column_number_density\").filterDate(\"2021-09-01\",\"2021-09-30\")\n",
    "#google engine account uploading shapefile at developers editor\n",
    "shape=ee.FeatureCollection('users/esamammry/Saudi')\n",
    "image=data.mean().clip(shape)\n",
    "display={\n",
    "   'min':0,\n",
    "  'max':0.0005,\n",
    "   'palette':['black', 'blue', 'purple', 'cyan', 'green', 'yellow', 'red']\n",
    "}\n",
    "Mapsul.addLayer(image,display)\n",
    "Mapsul"
   ]
  },
  {
   "cell_type": "markdown",
   "metadata": {},
   "source": [
    "<span style=\"color: white;\"><p align=\"center\"><font size='5'> **Nitrogen Dioxide:NO₂** </font></p></span>\n",
    "<span style=\"color: white;\"><p align=\"center\"><font size='1'> **from lowest to highest** </font></p></span>\n",
    "<span style=\"color: white;\"><p align=\"center\"><font size='2'> concentrations: black,blue,purple,cyan,green,yellow,red </font></p></span>"
   ]
  },
  {
   "cell_type": "code",
   "execution_count": 11,
   "metadata": {},
   "outputs": [
    {
     "data": {
      "application/vnd.jupyter.widget-view+json": {
       "model_id": "7e303d1388d644be8f3d4408b9b1de8f",
       "version_major": 2,
       "version_minor": 0
      },
      "text/plain": [
       "Map(bottom=3833.0, center=[24, 46], controls=(WidgetControl(options=['position', 'transparent_bg'], widget=HBo…"
      ]
     },
     "metadata": {},
     "output_type": "display_data"
    }
   ],
   "source": [
    "#Nitrogen Dioxide-low\n",
    "\n",
    "data2=ee.ImageCollection(\"COPERNICUS/S5P/OFFL/L3_NO2\").select('tropospheric_NO2_column_number_density').filterDate(\"2021-09-01\",\"2021-09-30\")\n",
    "image2=data2.mean().clip(shape)\n",
    "display2={\n",
    "    'min':0,\n",
    "    'max':0.00005,\n",
    "    'palette':['black', 'blue', 'purple', 'cyan', 'green', 'yellow', 'red']\n",
    "}\n",
    "Mapsnitro.addLayer(image2,display2)\n",
    "Mapsnitro\n"
   ]
  },
  {
   "cell_type": "markdown",
   "metadata": {},
   "source": [
    "<span style=\"color: white;\"><p align=\"center\"><font size='5'> **Airosel Index** </font></p></span>\n",
    "<span style=\"color: white;\"><p align=\"center\"><font size='1'> **from lowest to highest** </font></p></span>\n",
    "<span style=\"color: white;\"><p align=\"center\"><font size='2'> concentrations: black,blue,purple,cyan,green,yellow,red </font></p></span>"
   ]
  },
  {
   "cell_type": "code",
   "execution_count": 12,
   "metadata": {},
   "outputs": [
    {
     "data": {
      "application/vnd.jupyter.widget-view+json": {
       "model_id": "e6d7a0ec91fa45a1a302c644778b8d35",
       "version_major": 2,
       "version_minor": 0
      },
      "text/plain": [
       "Map(bottom=3833.0, center=[24, 46], controls=(WidgetControl(options=['position', 'transparent_bg'], widget=HBo…"
      ]
     },
     "metadata": {},
     "output_type": "display_data"
    }
   ],
   "source": [
    "#Airosel Index--very hgih\n",
    "\n",
    "data3=ee.ImageCollection(\"COPERNICUS/S5P/NRTI/L3_AER_AI\").select(\"absorbing_aerosol_index\").filterDate(\"2021-09-01\",\"2021-09-30\")\n",
    "image3=data3.mean().clip(shape)\n",
    "display3={\n",
    "    'min':0,\n",
    "    'max':2,\n",
    "    'palette':['black', 'blue', 'purple', 'cyan', 'green', 'yellow' ,'red']\n",
    "}\n",
    "Mapsair.addLayer(image3,display3)\n",
    "Mapsair\n"
   ]
  },
  {
   "cell_type": "markdown",
   "metadata": {},
   "source": [
    "<span style=\"color: white;\"><p align=\"center\"><font size='5'> **Carbon Monoxide:CO** </font></p></span>\n",
    "<span style=\"color: white;\"><p align=\"center\"><font size='1'> **from lowest to highest** </font></p></span>\n",
    "<span style=\"color: white;\"><p align=\"center\"><font size='2'> concentrations: black,blue,purple,cyan,green,yellow,red </font></p></span>"
   ]
  },
  {
   "cell_type": "code",
   "execution_count": 13,
   "metadata": {},
   "outputs": [
    {
     "data": {
      "application/vnd.jupyter.widget-view+json": {
       "model_id": "a02c4bf885e24436ae5f9d598a3b6de3",
       "version_major": 2,
       "version_minor": 0
      },
      "text/plain": [
       "Map(bottom=3833.0, center=[24, 46], controls=(WidgetControl(options=['position', 'transparent_bg'], widget=HBo…"
      ]
     },
     "metadata": {},
     "output_type": "display_data"
    }
   ],
   "source": [
    "#Carbon Monoxide..high\n",
    "\n",
    "data4=ee.ImageCollection(\"COPERNICUS/S5P/OFFL/L3_CO\").select(\"CO_column_number_density\").filterDate(\"2021-09-01\",\"2021-09-30\")\n",
    "image4=data4.mean().clip(shape)\n",
    "display4={\n",
    "    'min':0,\n",
    "    'max':0.036,\n",
    "    \"palette\":['black', 'blue', 'purple', 'cyan', 'green', 'yellow','red']\n",
    "}\n",
    "Mapscarbo.addLayer(image4,display4)\n",
    "Mapscarbo"
   ]
  },
  {
   "cell_type": "markdown",
   "metadata": {},
   "source": [
    "<span style=\"color: white;\"><p align=\"center\"><font size='5'> **Methane:CH₄** </font></p></span>\n",
    "<span style=\"color: white;\"><p align=\"center\"><font size='1'> **from lowest to highest** </font></p></span>\n",
    "<span style=\"color: white;\"><p align=\"center\"><font size='2'> concentrations: black,blue,purple,cyan,green,yellow,red </font></p></span>"
   ]
  },
  {
   "cell_type": "code",
   "execution_count": 29,
   "metadata": {},
   "outputs": [
    {
     "data": {
      "application/vnd.jupyter.widget-view+json": {
       "model_id": "8b41e8a7d0dc4a57908e02407f0fe75d",
       "version_major": 2,
       "version_minor": 0
      },
      "text/plain": [
       "Map(bottom=2066.0, center=[24.04646399966658, 45.79101562500001], controls=(WidgetControl(options=['position',…"
      ]
     },
     "metadata": {},
     "output_type": "display_data"
    }
   ],
   "source": [
    "#Methane-very high\n",
    "#red\n",
    "data5=ee.ImageCollection(\"COPERNICUS/S5P/OFFL/L3_CH4\").select(\"CH4_column_volume_mixing_ratio_dry_air\").filterDate(\"2021-09-01\",\"2021-09-30\")\n",
    "image5=data5.mean().clip(shape)\n",
    "display5={\n",
    "    'min':1450,\n",
    "    'max':2010,\n",
    "    'palette':['black', 'blue', 'purple', 'cyan', 'green', 'yellow','red']\n",
    "}\n",
    "Mapsmeth.addLayer(image5,display5)\n",
    "Mapsmeth"
   ]
  }
 ],
 "metadata": {
  "interpreter": {
   "hash": "3c86036965d1e73751c1420536929097ae3ccf65a80b92046f82bdbd35a2fe21"
  },
  "kernelspec": {
   "display_name": "Python 3",
   "language": "python",
   "name": "python3"
  },
  "language_info": {
   "codemirror_mode": {
    "name": "ipython",
    "version": 3
   },
   "file_extension": ".py",
   "mimetype": "text/x-python",
   "name": "python",
   "nbconvert_exporter": "python",
   "pygments_lexer": "ipython3",
   "version": "3.9.8"
  }
 },
 "nbformat": 4,
 "nbformat_minor": 2
}
